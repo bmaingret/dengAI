{
 "cells": [
  {
   "cell_type": "markdown",
   "metadata": {},
   "source": [
    "### Uploading to S3"
   ]
  },
  {
   "cell_type": "code",
   "execution_count": 1,
   "metadata": {},
   "outputs": [],
   "source": [
    "from utils import *\n",
    "\n",
    "import boto3\n",
    "import sagemaker\n",
    "\n",
    "sagemaker_session = sagemaker.Session()\n",
    "role = sagemaker.get_execution_role()\n",
    "bucket = sagemaker_session.default_bucket()\n",
    "\n",
    "prefix='dengai'\n",
    "\n",
    "train_prefix   = '{}/{}'.format(prefix, 'train')\n",
    "test_prefix    = '{}/{}'.format(prefix, 'test')\n",
    "\n",
    "train_path  = sagemaker_session.upload_data(train_json, bucket=bucket, key_prefix=train_prefix)\n",
    "test_path   = sagemaker_session.upload_data(test_json,  bucket=bucket, key_prefix=test_prefix)"
   ]
  },
  {
   "cell_type": "code",
   "execution_count": 2,
   "metadata": {},
   "outputs": [],
   "source": [
    "from sagemaker.amazon.amazon_estimator import get_image_uri\n",
    "from sagemaker.estimator import Estimator\n",
    "\n",
    "image_name = get_image_uri(boto3.Session().region_name, 'forecasting-deepar') \n",
    "s3_output_path = \"s3://{}/{}/output\".format(bucket, prefix)\n",
    "\n",
    "estimator = Estimator(sagemaker_session=sagemaker_session,\n",
    "                      image_name=image_name,\n",
    "                      role=role,\n",
    "                      train_instance_count=1,\n",
    "                      train_instance_type='ml.c4.xlarge',\n",
    "                      output_path=s3_output_path\n",
    "                      )\n",
    "\n",
    "freq='W'\n",
    "context_length=260 # max of our prediction windows\n",
    "\n",
    "hyperparameters = {\n",
    "    \"epochs\": \"50\",\n",
    "    \"time_freq\": freq,\n",
    "    \"prediction_length\": str(context_length),\n",
    "    \"context_length\": str(context_length),\n",
    "    \"num_cells\": \"50\",\n",
    "    \"num_layers\": \"2\",\n",
    "    \"mini_batch_size\": \"128\",\n",
    "    \"learning_rate\": \"0.001\",\n",
    "    \"early_stopping_patience\": \"10\"\n",
    "}\n",
    "\n",
    "estimator.set_hyperparameters(**hyperparameters)\n"
   ]
  },
  {
   "cell_type": "markdown",
   "metadata": {},
   "source": [
    "### Creating training job"
   ]
  },
  {
   "cell_type": "code",
   "execution_count": 7,
   "metadata": {},
   "outputs": [],
   "source": [
    "from sagemaker.amazon.amazon_estimator import get_image_uri\n",
    "from sagemaker.estimator import Estimator\n",
    "\n",
    "image_name = get_image_uri(boto3.Session().region_name, 'forecasting-deepar') \n",
    "s3_output_path = \"s3://{}/{}/output\".format(bucket, prefix)\n",
    "\n",
    "estimator = Estimator(sagemaker_session=sagemaker_session,\n",
    "                      image_name=image_name,\n",
    "                      role=role,\n",
    "                      train_instance_count=1,\n",
    "                      train_instance_type='ml.c4.xlarge',\n",
    "                      output_path=s3_output_path\n",
    "                      )\n",
    "\n",
    "freq='W'\n",
    "context_length=260 # max of our prediction windows\n",
    "\n",
    "hyperparameters = {\n",
    "    \"epochs\": \"50\",\n",
    "    \"time_freq\": freq,\n",
    "    \"prediction_length\": str(context_length),\n",
    "    \"context_length\": str(context_length),\n",
    "    \"num_cells\": \"50\",\n",
    "    \"num_layers\": \"2\",\n",
    "    \"mini_batch_size\": \"128\",\n",
    "    \"learning_rate\": \"0.001\",\n",
    "    \"early_stopping_patience\": \"10\"\n",
    "}\n",
    "\n",
    "estimator.set_hyperparameters(**hyperparameters)\n"
   ]
  },
  {
   "cell_type": "code",
   "execution_count": null,
   "metadata": {},
   "outputs": [],
   "source": [
    "data_channels = {\n",
    "    \"train\": train_path,\n",
    "#    \"test\": test_path\n",
    "}\n",
    "\n",
    "estimator.fit(inputs=data_channels)"
   ]
  },
  {
   "cell_type": "markdown",
   "metadata": {},
   "source": [
    "### If we want to skip training and reuse a previously trained model"
   ]
  },
  {
   "cell_type": "code",
   "execution_count": 3,
   "metadata": {},
   "outputs": [
    {
     "data": {
      "text/plain": [
       "['dengai/batch-inference/test.json.out',\n",
       " 'dengai/output/forecasting-deepar-2020-04-02-20-36-06-182/output/model.tar.gz',\n",
       " 'dengai/test/test.json',\n",
       " 'dengai/train/test.json',\n",
       " 'dengai/train/train.json',\n",
       " 'dengai/train/train_out.json']"
      ]
     },
     "execution_count": 3,
     "metadata": {},
     "output_type": "execute_result"
    }
   ],
   "source": [
    "sagemaker_session.list_s3_files(bucket, prefix)"
   ]
  },
  {
   "cell_type": "code",
   "execution_count": 4,
   "metadata": {},
   "outputs": [],
   "source": [
    "from sagemaker.model import Model\n",
    "\n",
    "model_file = 'dengai/output/forecasting-deepar-2020-04-02-20-36-06-182/output/model.tar.gz'\n",
    "model_s3_path = f's3://{bucket}/{model_file}'\n",
    "\n",
    "model = Model(model_data=model_s3_path,\n",
    "              image=image_name,\n",
    "             role=role)"
   ]
  },
  {
   "cell_type": "markdown",
   "metadata": {},
   "source": [
    "## Testing our model"
   ]
  },
  {
   "cell_type": "code",
   "execution_count": 5,
   "metadata": {},
   "outputs": [
    {
     "name": "stdout",
     "output_type": "stream",
     "text": [
      "........................\n",
      ".\u001b[34mArguments: serve\u001b[0m\n",
      "\u001b[34mNo handlers could be found for logger \"root\"\u001b[0m\n",
      "\u001b[34m[04/07/2020 10:58:07 INFO 140591537907520] Estimated memory required per model 125MB.\u001b[0m\n",
      "\u001b[34m[04/07/2020 10:58:07 INFO 140591537907520] Estimated available memory 14774MB.\u001b[0m\n",
      "\u001b[34m[04/07/2020 10:58:07 INFO 140591537907520] Estimated maximum number of workers for the available memory is 117.\u001b[0m\n",
      "\u001b[34m[04/07/2020 10:58:07 INFO 140591537907520] Using 4 workers\u001b[0m\n",
      "\u001b[34m[04/07/2020 10:58:07 INFO 140591537907520] loading entry points\u001b[0m\n",
      "\u001b[34m[04/07/2020 10:58:07 INFO 140591537907520] Prediction endpoint operating in batch mode\u001b[0m\n",
      "\u001b[34m[04/07/2020 10:58:07 INFO 140591537907520] loaded request iterator application/jsonlines\u001b[0m\n",
      "\u001b[34m[04/07/2020 10:58:07 INFO 140591537907520] loaded response encoder application/jsonlines\u001b[0m\n",
      "\u001b[34m[04/07/2020 10:58:07 INFO 140591537907520] loaded model class model\u001b[0m\n",
      "\u001b[34m[04/07/2020 10:58:07 WARNING 140591537907520] Requesting context without setting the requested num of gpus. Using 'auto'\u001b[0m\n",
      "\u001b[34m[04/07/2020 10:58:07 INFO 140591537907520] nvidia-smi took: 0.0252089500427 secs to identify 0 gpus\u001b[0m\n",
      "\u001b[34m[04/07/2020 10:58:07 INFO 140591537907520] Number of GPUs being used: 0\u001b[0m\n",
      "\u001b[34m[04/07/2020 10:58:07 INFO 140591537907520] Loading Config from /opt/ml/model/model_algo-1-config.json\u001b[0m\n",
      "\u001b[34m#metrics {\"Metrics\": {\"model.deserialize_phase1.time\": {\"count\": 1, \"max\": 1.3909339904785156, \"sum\": 1.3909339904785156, \"min\": 1.3909339904785156}}, \"EndTime\": 1586257087.862057, \"Dimensions\": {}, \"StartTime\": 1586257087.768005}\n",
      "\u001b[0m\n",
      "\u001b[35mArguments: serve\u001b[0m\n",
      "\u001b[35mNo handlers could be found for logger \"root\"\u001b[0m\n",
      "\u001b[35m[04/07/2020 10:58:07 INFO 140591537907520] Estimated memory required per model 125MB.\u001b[0m\n",
      "\u001b[35m[04/07/2020 10:58:07 INFO 140591537907520] Estimated available memory 14774MB.\u001b[0m\n",
      "\u001b[35m[04/07/2020 10:58:07 INFO 140591537907520] Estimated maximum number of workers for the available memory is 117.\u001b[0m\n",
      "\u001b[35m[04/07/2020 10:58:07 INFO 140591537907520] Using 4 workers\u001b[0m\n",
      "\u001b[35m[04/07/2020 10:58:07 INFO 140591537907520] loading entry points\u001b[0m\n",
      "\u001b[35m[04/07/2020 10:58:07 INFO 140591537907520] Prediction endpoint operating in batch mode\u001b[0m\n",
      "\u001b[35m[04/07/2020 10:58:07 INFO 140591537907520] loaded request iterator application/jsonlines\u001b[0m\n",
      "\u001b[35m[04/07/2020 10:58:07 INFO 140591537907520] loaded response encoder application/jsonlines\u001b[0m\n",
      "\u001b[35m[04/07/2020 10:58:07 INFO 140591537907520] loaded model class model\u001b[0m\n",
      "\u001b[35m[04/07/2020 10:58:07 WARNING 140591537907520] Requesting context without setting the requested num of gpus. Using 'auto'\u001b[0m\n",
      "\u001b[35m[04/07/2020 10:58:07 INFO 140591537907520] nvidia-smi took: 0.0252089500427 secs to identify 0 gpus\u001b[0m\n",
      "\u001b[35m[04/07/2020 10:58:07 INFO 140591537907520] Number of GPUs being used: 0\u001b[0m\n",
      "\u001b[35m[04/07/2020 10:58:07 INFO 140591537907520] Loading Config from /opt/ml/model/model_algo-1-config.json\u001b[0m\n",
      "\u001b[35m#metrics {\"Metrics\": {\"model.deserialize_phase1.time\": {\"count\": 1, \"max\": 1.3909339904785156, \"sum\": 1.3909339904785156, \"min\": 1.3909339904785156}}, \"EndTime\": 1586257087.862057, \"Dimensions\": {}, \"StartTime\": 1586257087.768005}\n",
      "\u001b[0m\n",
      "\u001b[34m[04/07/2020 10:58:07 INFO 140591537907520] Deserializing model parameters from /opt/ml/model/model_algo-1\u001b[0m\n",
      "\u001b[34m[10:58:08] /opt/brazil-pkg-cache/packages/AIAlgorithmsMXNet/AIAlgorithmsMXNet-1.1.x.202184.0/RHEL5_64/generic-flavor/src/src/engine/engine.cc:55: MXNet start using engine: NaiveEngine\u001b[0m\n",
      "\u001b[35m[04/07/2020 10:58:07 INFO 140591537907520] Deserializing model parameters from /opt/ml/model/model_algo-1\u001b[0m\n",
      "\u001b[35m[10:58:08] /opt/brazil-pkg-cache/packages/AIAlgorithmsMXNet/AIAlgorithmsMXNet-1.1.x.202184.0/RHEL5_64/generic-flavor/src/src/engine/engine.cc:55: MXNet start using engine: NaiveEngine\u001b[0m\n",
      "\u001b[34m#metrics {\"Metrics\": {\"model.bind.time\": {\"count\": 1, \"max\": 573.6048221588135, \"sum\": 573.6048221588135, \"min\": 573.6048221588135}}, \"EndTime\": 1586257089.092019, \"Dimensions\": {}, \"StartTime\": 1586257087.862207}\n",
      "\u001b[0m\n",
      "\u001b[34m#metrics {\"Metrics\": {\"model.deserialize_phase2.time\": {\"count\": 1, \"max\": 1229.8901081085205, \"sum\": 1229.8901081085205, \"min\": 1229.8901081085205}}, \"EndTime\": 1586257089.092119, \"Dimensions\": {}, \"StartTime\": 1586257089.092097}\n",
      "\u001b[0m\n",
      "\u001b[34m[2020-04-07 10:58:09 +0000] [1] [INFO] Starting gunicorn 19.7.1\u001b[0m\n",
      "\u001b[34m[2020-04-07 10:58:09 +0000] [1] [INFO] Listening at: http://0.0.0.0:8080 (1)\u001b[0m\n",
      "\u001b[34m[2020-04-07 10:58:09 +0000] [1] [INFO] Using worker: sync\u001b[0m\n",
      "\u001b[34m[2020-04-07 10:58:09 +0000] [33] [INFO] Booting worker with pid: 33\u001b[0m\n",
      "\u001b[34m[2020-04-07 10:58:09 +0000] [34] [INFO] Booting worker with pid: 34\u001b[0m\n",
      "\u001b[34m#metrics {\"Metrics\": {\"model.evaluate.time\": {\"count\": 1, \"max\": 0.07009506225585938, \"sum\": 0.07009506225585938, \"min\": 0.07009506225585938}}, \"EndTime\": 1586257089.206011, \"Dimensions\": {\"Host\": \"UNKNOWN\", \"Operation\": \"scoring\", \"Algorithm\": \"DeepARModel\"}, \"StartTime\": 1586257089.143861}\n",
      "\u001b[0m\n",
      "\u001b[34m[2020-04-07 10:58:09 +0000] [35] [INFO] Booting worker with pid: 35\u001b[0m\n",
      "\u001b[34m[2020-04-07 10:58:09 +0000] [36] [INFO] Booting worker with pid: 36\u001b[0m\n",
      "\u001b[34m#metrics {\"Metrics\": {\"serve.jsonlines_encoder.time\": {\"count\": 1, \"max\": 0.2560615539550781, \"sum\": 0.2560615539550781, \"min\": 0.2560615539550781}}, \"EndTime\": 1586257089.856473, \"Dimensions\": {\"Host\": \"UNKNOWN\", \"Operation\": \"scoring\", \"Algorithm\": \"DeepARModel\"}, \"StartTime\": 1586257089.206246}\n",
      "\u001b[0m\n",
      "\u001b[34m#metrics {\"Metrics\": {\"invocations.count\": {\"count\": 1, \"max\": 1, \"sum\": 1.0, \"min\": 1}}, \"EndTime\": 1586257089.856943, \"Dimensions\": {\"Host\": \"UNKNOWN\", \"Operation\": \"scoring\", \"Algorithm\": \"DeepARModel\"}, \"StartTime\": 1586257089.856544}\n",
      "\u001b[0m\n",
      "\u001b[35m#metrics {\"Metrics\": {\"model.bind.time\": {\"count\": 1, \"max\": 573.6048221588135, \"sum\": 573.6048221588135, \"min\": 573.6048221588135}}, \"EndTime\": 1586257089.092019, \"Dimensions\": {}, \"StartTime\": 1586257087.862207}\n",
      "\u001b[0m\n",
      "\u001b[35m#metrics {\"Metrics\": {\"model.deserialize_phase2.time\": {\"count\": 1, \"max\": 1229.8901081085205, \"sum\": 1229.8901081085205, \"min\": 1229.8901081085205}}, \"EndTime\": 1586257089.092119, \"Dimensions\": {}, \"StartTime\": 1586257089.092097}\n",
      "\u001b[0m\n",
      "\u001b[35m[2020-04-07 10:58:09 +0000] [1] [INFO] Starting gunicorn 19.7.1\u001b[0m\n",
      "\u001b[35m[2020-04-07 10:58:09 +0000] [1] [INFO] Listening at: http://0.0.0.0:8080 (1)\u001b[0m\n",
      "\u001b[35m[2020-04-07 10:58:09 +0000] [1] [INFO] Using worker: sync\u001b[0m\n",
      "\u001b[35m[2020-04-07 10:58:09 +0000] [33] [INFO] Booting worker with pid: 33\u001b[0m\n",
      "\u001b[35m[2020-04-07 10:58:09 +0000] [34] [INFO] Booting worker with pid: 34\u001b[0m\n",
      "\u001b[35m#metrics {\"Metrics\": {\"model.evaluate.time\": {\"count\": 1, \"max\": 0.07009506225585938, \"sum\": 0.07009506225585938, \"min\": 0.07009506225585938}}, \"EndTime\": 1586257089.206011, \"Dimensions\": {\"Host\": \"UNKNOWN\", \"Operation\": \"scoring\", \"Algorithm\": \"DeepARModel\"}, \"StartTime\": 1586257089.143861}\n",
      "\u001b[0m\n",
      "\u001b[35m[2020-04-07 10:58:09 +0000] [35] [INFO] Booting worker with pid: 35\u001b[0m\n",
      "\u001b[35m[2020-04-07 10:58:09 +0000] [36] [INFO] Booting worker with pid: 36\u001b[0m\n",
      "\u001b[35m#metrics {\"Metrics\": {\"serve.jsonlines_encoder.time\": {\"count\": 1, \"max\": 0.2560615539550781, \"sum\": 0.2560615539550781, \"min\": 0.2560615539550781}}, \"EndTime\": 1586257089.856473, \"Dimensions\": {\"Host\": \"UNKNOWN\", \"Operation\": \"scoring\", \"Algorithm\": \"DeepARModel\"}, \"StartTime\": 1586257089.206246}\n",
      "\u001b[0m\n",
      "\u001b[35m#metrics {\"Metrics\": {\"invocations.count\": {\"count\": 1, \"max\": 1, \"sum\": 1.0, \"min\": 1}}, \"EndTime\": 1586257089.856943, \"Dimensions\": {\"Host\": \"UNKNOWN\", \"Operation\": \"scoring\", \"Algorithm\": \"DeepARModel\"}, \"StartTime\": 1586257089.856544}\n",
      "\u001b[0m\n",
      "\u001b[32m2020-04-07T10:58:09.141:[sagemaker logs]: MaxConcurrentTransforms=4, MaxPayloadInMB=6, BatchStrategy=SINGLE_RECORD\u001b[0m\n"
     ]
    }
   ],
   "source": [
    "s3_batch_output_path = 's3://{}/{}/batch-inference'.format(bucket, prefix)\n",
    "\n",
    "# uncomment to  use freshly trained model\n",
    "# model = estimator\n",
    "\n",
    "transformer = model.transformer(instance_count=1,\n",
    "                                instance_type='ml.m4.xlarge',\n",
    "                                strategy='SingleRecord',\n",
    "                                assemble_with='Line',\n",
    "                                output_path=s3_batch_output_path)\n",
    "\n",
    "\n",
    "transformer.transform(data=test_path, data_type='S3Prefix', content_type=None, split_type='Line')\n",
    "transformer.wait()"
   ]
  },
  {
   "cell_type": "code",
   "execution_count": 9,
   "metadata": {},
   "outputs": [
    {
     "data": {
      "text/plain": [
       "['dengai/batch-inference/test.json.out',\n",
       " 'dengai/output/forecasting-deepar-2020-04-02-20-36-06-182/output/model.tar.gz',\n",
       " 'dengai/test/test.json',\n",
       " 'dengai/train/test.json',\n",
       " 'dengai/train/train.json',\n",
       " 'dengai/train/train_out.json']"
      ]
     },
     "execution_count": 9,
     "metadata": {},
     "output_type": "execute_result"
    }
   ],
   "source": [
    "sagemaker_session.list_s3_files(bucket, prefix)"
   ]
  },
  {
   "cell_type": "code",
   "execution_count": 7,
   "metadata": {},
   "outputs": [],
   "source": [
    "predictions = sagemaker_session.read_s3_file(bucket, 'dengai/batch-inference/test.json.out')"
   ]
  },
  {
   "cell_type": "code",
   "execution_count": 21,
   "metadata": {},
   "outputs": [],
   "source": [
    "# helper function to decode JSON prediction\n",
    "def unjson_prediction(prediction):\n",
    "    '''Accepts a JSON prediction and returns a list of quantiles for prediction.\n",
    "    '''\n",
    "    prediction_data = json.loads(prediction)\n",
    "    predictions_quantiles = pd.DataFrame(json.loads(predictions)['quantiles'])\n",
    "    return predictions_quantiles"
   ]
  },
  {
   "cell_type": "code",
   "execution_count": 24,
   "metadata": {},
   "outputs": [
    {
     "data": {
      "text/html": [
       "<div>\n",
       "<style scoped>\n",
       "    .dataframe tbody tr th:only-of-type {\n",
       "        vertical-align: middle;\n",
       "    }\n",
       "\n",
       "    .dataframe tbody tr th {\n",
       "        vertical-align: top;\n",
       "    }\n",
       "\n",
       "    .dataframe thead th {\n",
       "        text-align: right;\n",
       "    }\n",
       "</style>\n",
       "<table border=\"1\" class=\"dataframe\">\n",
       "  <thead>\n",
       "    <tr style=\"text-align: right;\">\n",
       "      <th></th>\n",
       "      <th>0.9</th>\n",
       "      <th>0.8</th>\n",
       "      <th>0.1</th>\n",
       "      <th>0.3</th>\n",
       "      <th>0.2</th>\n",
       "      <th>0.5</th>\n",
       "      <th>0.4</th>\n",
       "      <th>0.7</th>\n",
       "      <th>0.6</th>\n",
       "    </tr>\n",
       "  </thead>\n",
       "  <tbody>\n",
       "    <tr>\n",
       "      <th>0</th>\n",
       "      <td>39.031010</td>\n",
       "      <td>17.814156</td>\n",
       "      <td>-53.983021</td>\n",
       "      <td>-25.475071</td>\n",
       "      <td>-35.061924</td>\n",
       "      <td>-9.170671</td>\n",
       "      <td>-18.057896</td>\n",
       "      <td>5.807765</td>\n",
       "      <td>-0.841711</td>\n",
       "    </tr>\n",
       "    <tr>\n",
       "      <th>1</th>\n",
       "      <td>40.637886</td>\n",
       "      <td>22.125973</td>\n",
       "      <td>-47.326069</td>\n",
       "      <td>-26.382660</td>\n",
       "      <td>-34.628517</td>\n",
       "      <td>-9.080470</td>\n",
       "      <td>-14.388029</td>\n",
       "      <td>10.184536</td>\n",
       "      <td>-1.517869</td>\n",
       "    </tr>\n",
       "    <tr>\n",
       "      <th>2</th>\n",
       "      <td>44.574913</td>\n",
       "      <td>26.816200</td>\n",
       "      <td>-60.027771</td>\n",
       "      <td>-17.561552</td>\n",
       "      <td>-26.947401</td>\n",
       "      <td>0.981100</td>\n",
       "      <td>-6.953906</td>\n",
       "      <td>12.862263</td>\n",
       "      <td>7.243910</td>\n",
       "    </tr>\n",
       "    <tr>\n",
       "      <th>3</th>\n",
       "      <td>64.973145</td>\n",
       "      <td>46.729702</td>\n",
       "      <td>-57.303787</td>\n",
       "      <td>-18.366737</td>\n",
       "      <td>-39.520645</td>\n",
       "      <td>10.361946</td>\n",
       "      <td>0.989868</td>\n",
       "      <td>25.941263</td>\n",
       "      <td>19.319803</td>\n",
       "    </tr>\n",
       "    <tr>\n",
       "      <th>4</th>\n",
       "      <td>67.944481</td>\n",
       "      <td>43.606434</td>\n",
       "      <td>-65.740692</td>\n",
       "      <td>-9.202693</td>\n",
       "      <td>-23.860844</td>\n",
       "      <td>11.258343</td>\n",
       "      <td>0.563121</td>\n",
       "      <td>29.077660</td>\n",
       "      <td>19.214878</td>\n",
       "    </tr>\n",
       "  </tbody>\n",
       "</table>\n",
       "</div>"
      ],
      "text/plain": [
       "         0.9        0.8        0.1        0.3        0.2        0.5  \\\n",
       "0  39.031010  17.814156 -53.983021 -25.475071 -35.061924  -9.170671   \n",
       "1  40.637886  22.125973 -47.326069 -26.382660 -34.628517  -9.080470   \n",
       "2  44.574913  26.816200 -60.027771 -17.561552 -26.947401   0.981100   \n",
       "3  64.973145  46.729702 -57.303787 -18.366737 -39.520645  10.361946   \n",
       "4  67.944481  43.606434 -65.740692  -9.202693 -23.860844  11.258343   \n",
       "\n",
       "         0.4        0.7        0.6  \n",
       "0 -18.057896   5.807765  -0.841711  \n",
       "1 -14.388029  10.184536  -1.517869  \n",
       "2  -6.953906  12.862263   7.243910  \n",
       "3   0.989868  25.941263  19.319803  \n",
       "4   0.563121  29.077660  19.214878  "
      ]
     },
     "execution_count": 24,
     "metadata": {},
     "output_type": "execute_result"
    }
   ],
   "source": [
    "# get quantiles/predictions\n",
    "prediction_list = unjson_prediction(predictions)\n",
    "prediction_list.head()"
   ]
  },
  {
   "cell_type": "code",
   "execution_count": 29,
   "metadata": {},
   "outputs": [],
   "source": [
    "import matplotlib.pyplot as plt\n",
    "\n",
    "# display the prediction median against the actual data\n",
    "def display_quantiles(prediction, target_ts=None):\n",
    "    plt.figure(figsize=(12,6))\n",
    "    # get the target month of data\n",
    "    if target_ts is not None:\n",
    "        target = target_ts[k][-prediction_length:]\n",
    "        plt.plot(range(len(target)), target, label='target')\n",
    "    # get the quantile values at 10 and 90%\n",
    "    p10 = prediction['0.1']\n",
    "    p90 = prediction['0.9']\n",
    "    # fill the 80% confidence interval\n",
    "    plt.fill_between(p10.index, p10, p90, color='y', alpha=0.5, label='80% confidence interval')\n",
    "    # plot the median prediction line\n",
    "    prediction['0.5'].plot(label='prediction median')\n",
    "    plt.legend()\n",
    "    plt.show()"
   ]
  },
  {
   "cell_type": "code",
   "execution_count": 30,
   "metadata": {},
   "outputs": [
    {
     "data": {
      "image/png": "[encoded data removed]",
      "text/plain": [
       "<Figure size 864x432 with 1 Axes>"
      ]
     },
     "metadata": {},
     "output_type": "display_data"
    }
   ],
   "source": [
    "display_quantiles(prediction_list, None)"
   ]
  }
 ],
 "metadata": {
  "kernelspec": {
   "display_name": "conda_pytorch_p36",
   "language": "python",
   "name": "conda_pytorch_p36"
  },
  "language_info": {
   "codemirror_mode": {
    "name": "ipython",
    "version": 3
   },
   "file_extension": ".py",
   "mimetype": "text/x-python",
   "name": "python",
   "nbconvert_exporter": "python",
   "pygments_lexer": "ipython3",
   "version": "3.6.5"
  }
 },
 "nbformat": 4,
 "nbformat_minor": 4
}

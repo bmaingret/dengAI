{
 "cells": [
  {
   "cell_type": "markdown",
   "metadata": {},
   "source": [
    "# Hypertuning of parameters for DeepAR Estimator"
   ]
  },
  {
   "cell_type": "markdown",
   "metadata": {},
   "source": [
    "### Imports and housekeeping"
   ]
  },
  {
   "cell_type": "code",
   "execution_count": 51,
   "metadata": {},
   "outputs": [],
   "source": [
    "import sagemaker\n",
    "\n",
    "from sagemaker.estimator import Estimator\n",
    "from sagemaker.tuner import IntegerParameter, CategoricalParameter, ContinuousParameter, HyperparameterTuner\n",
    "from sagemaker.amazon.amazon_estimator import get_image_uri\n",
    "\n",
    "import pandas as pd\n",
    "import matplotlib.pyplot as plt\n",
    "import seaborn as sns\n",
    "\n",
    "sns.set()\n",
    "\n",
    "sagemaker_session = sagemaker.Session()\n",
    "role = sagemaker.get_execution_role()"
   ]
  },
  {
   "cell_type": "markdown",
   "metadata": {},
   "source": [
    "### Helper functino to return a properly initiated DeepAR estimator"
   ]
  },
  {
   "cell_type": "code",
   "execution_count": 86,
   "metadata": {},
   "outputs": [],
   "source": [
    "def deepar_estimator(prediction_length):\n",
    "    image_name = get_image_uri(sagemaker_session.boto_region_name, 'forecasting-deepar')    \n",
    "    estimator = Estimator(sagemaker_session=sagemaker_session,\n",
    "                            image_name=image_name,\n",
    "                            role=role,\n",
    "                            train_instance_count=1,\n",
    "                            train_instance_type='ml.c4.xlarge',\n",
    "                            train_use_spot_instances=True,\n",
    "                            train_max_wait=3600,\n",
    "                            train_max_run=3600)\n",
    "    \n",
    "    hyperparameters_base = {\n",
    "        \"epochs\": \"100\",\n",
    "        \"time_freq\": 'W',\n",
    "        \"num_layers\": \"2\",\n",
    "        \"early_stopping_patience\": \"10\",\n",
    "        'prediction_length': prediction_length,\n",
    "        'num_dynamic_feat': 'auto',\n",
    "        'cardinality': 'ignore'}\n",
    "    \n",
    "    estimator.set_hyperparameters(**hyperparameters_base)\n",
    "    \n",
    "    return estimator"
   ]
  },
  {
   "cell_type": "markdown",
   "metadata": {},
   "source": [
    "### Hyperparameters search grid, objective metric and input definitions"
   ]
  },
  {
   "cell_type": "code",
   "execution_count": 81,
   "metadata": {},
   "outputs": [],
   "source": [
    "objective_metric_name = 'test:RMSE'\n",
    "\n",
    "hyperparameter_ranges_sj = {\n",
    "    'dropout_rate': ContinuousParameter(0.03, 0.3),\n",
    "    'learning_rate': ContinuousParameter(0.001, 0.3),\n",
    "    'mini_batch_size': IntegerParameter(32, 128),\n",
    "    'context_length': IntegerParameter(52, 260),\n",
    "    'num_cells': IntegerParameter(30, 128)\n",
    "}\n",
    "\n",
    "hyperparameter_ranges_iq = {\n",
    "    'dropout_rate': ContinuousParameter(0.03, 0.3),\n",
    "    'learning_rate': ContinuousParameter(0.001, 0.3),\n",
    "    'mini_batch_size': IntegerParameter(32, 128),\n",
    "    'context_length': IntegerParameter(26, 156),\n",
    "    'num_cells': IntegerParameter(30, 128)\n",
    "}"
   ]
  },
  {
   "cell_type": "code",
   "execution_count": 82,
   "metadata": {},
   "outputs": [],
   "source": [
    "data_channels_sj = {'train': 's3://sagemaker-eu-central-1-964501460451/dengai/2020-04-15--01-10-dew-std-label/pprocess_data/train_pp_sj.json',\n",
    "                 'test' : 's3://sagemaker-eu-central-1-964501460451/dengai/2020-04-15--01-10-dew-std-label/pprocess_data/train_pp_sj.json' }\n",
    "    \n",
    "data_channels_iq = {'train': 's3://sagemaker-eu-central-1-964501460451/dengai/2020-04-15--01-10-dew-std-label/pprocess_data/train_test_pp_iq.json',\n",
    "                 'test' : 's3://sagemaker-eu-central-1-964501460451/dengai/2020-04-15--01-10-dew-std-label/pprocess_data/train_test_pp_iq.json' }"
   ]
  },
  {
   "cell_type": "markdown",
   "metadata": {},
   "source": [
    "### Estimator and hypertuning job instanciation"
   ]
  },
  {
   "cell_type": "code",
   "execution_count": 87,
   "metadata": {},
   "outputs": [],
   "source": [
    "estimator_sj = deepar_estimator(260)\n",
    "estimator_iq = deepar_estimator(156)"
   ]
  },
  {
   "cell_type": "code",
   "execution_count": 90,
   "metadata": {},
   "outputs": [],
   "source": [
    "tuner_sj = HyperparameterTuner(estimator_sj,\n",
    "                            objective_metric_name,\n",
    "                            hyperparameter_ranges_sj,\n",
    "                            max_jobs=50,\n",
    "                            max_parallel_jobs=10,\n",
    "                            objective_type='Minimize',\n",
    "                            base_tuning_job_name='sj'\n",
    "                            )\n",
    "tuner_iq = HyperparameterTuner(estimator_iq,\n",
    "                            objective_metric_name,\n",
    "                            hyperparameter_ranges_iq,\n",
    "                            max_jobs=50,\n",
    "                            max_parallel_jobs=10,\n",
    "                            objective_type='Minimize',\n",
    "                            base_tuning_job_name='iq')"
   ]
  },
  {
   "cell_type": "markdown",
   "metadata": {},
   "source": [
    "### Start and wait for the hypertuning jobs"
   ]
  },
  {
   "cell_type": "code",
   "execution_count": null,
   "metadata": {},
   "outputs": [],
   "source": [
    "tuner_sj.fit(data_channels_sj)\n",
    "tuner_iq.fit(data_channels_iq)"
   ]
  },
  {
   "cell_type": "code",
   "execution_count": 92,
   "metadata": {},
   "outputs": [
    {
     "name": "stdout",
     "output_type": "stream",
     "text": [
      "..........................................................................................................................................................................................................................................................................................................................................................................................................................................................................................................................................................................................................................................................................................................................................................................................................................................................................................................................................................................................................................................................................!\n",
      "s\n"
     ]
    }
   ],
   "source": [
    "tuner_iq.wait()\n",
    "tuner_sj.wait()"
   ]
  },
  {
   "cell_type": "markdown",
   "metadata": {},
   "source": [
    "## Getting hypertuning job information and visualization"
   ]
  },
  {
   "cell_type": "code",
   "execution_count": 9,
   "metadata": {},
   "outputs": [],
   "source": [
    "def analyze_ht_job(job_name):\n",
    "    ht = HyperparameterTuner.attach(job_name)\n",
    "    stats = ht.analytics().dataframe()\n",
    "    print('Number of training jobs and parameters searched \\n')\n",
    "    print(stats.nunique())\n",
    "    print('\\n \\n')\n",
    "    \n",
    "    stats_for_plot = stats[(stats.TrainingJobStatus=='Completed')].sort_values('FinalObjectiveValue')[:-5]\n",
    "    best_ix = stats_for_plot.FinalObjectiveValue.idxmin()\n",
    "    stats_for_plot.loc[best_ix]\n",
    "    \n",
    "    markers = ['o' for _ in range(len(stats_for_plot))]\n",
    "    markers[0] = 'X'\n",
    "    sns.pairplot(data=stats_for_plot, vars=ht._hyperparameter_ranges.keys(), hue='FinalObjectiveValue', palette='RdBu_r', markers=markers)"
   ]
  },
  {
   "cell_type": "code",
   "execution_count": null,
   "metadata": {},
   "outputs": [],
   "source": [
    "analyze_ht_job(tuner_iq._current_job_name)"
   ]
  }
 ],
 "metadata": {
  "kernelspec": {
   "display_name": "conda_python3",
   "language": "python",
   "name": "conda_python3"
  },
  "language_info": {
   "codemirror_mode": {
    "name": "ipython",
    "version": 3
   },
   "file_extension": ".py",
   "mimetype": "text/x-python",
   "name": "python",
   "nbconvert_exporter": "python",
   "pygments_lexer": "ipython3",
   "version": "3.6.5"
  }
 },
 "nbformat": 4,
 "nbformat_minor": 4
}
